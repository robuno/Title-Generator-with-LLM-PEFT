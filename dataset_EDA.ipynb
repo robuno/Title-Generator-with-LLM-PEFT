{
 "cells": [
  {
   "cell_type": "code",
   "execution_count": 1,
   "metadata": {},
   "outputs": [],
   "source": [
    "import pandas as pd \n",
    "import numpy as np \n",
    "import os\n",
    "import json\n",
    "from tqdm.notebook import tqdm\n",
    "import matplotlib.pyplot as plt\n",
    "import re\n",
    "import time"
   ]
  },
  {
   "cell_type": "code",
   "execution_count": 2,
   "metadata": {},
   "outputs": [],
   "source": [
    "data_src = \"./arxiv-metadata-oai-snapshot.json\"\n",
    "\n",
    "def get_meta_data():\n",
    "    with open(data_src, 'r') as f:\n",
    "        for line in f:\n",
    "            yield line"
   ]
  },
  {
   "cell_type": "code",
   "execution_count": 3,
   "metadata": {},
   "outputs": [
    {
     "name": "stdout",
     "output_type": "stream",
     "text": [
      "id\n",
      "submitter\n",
      "authors\n",
      "title\n",
      "comments\n",
      "journal-ref\n",
      "doi\n",
      "report-no\n",
      "categories\n",
      "license\n",
      "abstract\n",
      "versions\n",
      "update_date\n",
      "authors_parsed\n"
     ]
    }
   ],
   "source": [
    "metadata = get_meta_data()\n",
    "for paper in metadata:\n",
    "    for key, val in json.loads(paper).items():\n",
    "        # print(f'{key}: {val}')\n",
    "        print(key)\n",
    "    break"
   ]
  },
  {
   "cell_type": "markdown",
   "metadata": {},
   "source": [
    "create DF"
   ]
  },
  {
   "cell_type": "code",
   "execution_count": 4,
   "metadata": {},
   "outputs": [],
   "source": [
    "NUMBER_FILTER = 2390080"
   ]
  },
  {
   "cell_type": "code",
   "execution_count": 5,
   "metadata": {},
   "outputs": [
    {
     "name": "stdout",
     "output_type": "stream",
     "text": [
      "<class 'generator'>\n"
     ]
    }
   ],
   "source": [
    "def get_dataset_generator(path):\n",
    "    with open(path, \"r\") as fp:\n",
    "        for line in fp:\n",
    "            row = json.loads(line)\n",
    "            yield row\n",
    "\n",
    "            \n",
    "dataset_generator = get_dataset_generator(data_src)\n",
    "print(type(dataset_generator))"
   ]
  },
  {
   "cell_type": "code",
   "execution_count": 6,
   "metadata": {},
   "outputs": [],
   "source": [
    "def create_dataframe(generator):\n",
    "    ids = []\n",
    "    submitters = []\n",
    "    authors = []\n",
    "    titles = []\n",
    "    categories = []\n",
    "    abstracts = []\n",
    "    categories = []\n",
    "    dates = []\n",
    "    \n",
    "    # dois = []\n",
    "    # comments = []\n",
    "    # journal_refs = []\n",
    "    # report_nos = []\n",
    "    # versions = []\n",
    "\n",
    "    for row in generator:\n",
    "        # if len(id) == NUMBER_FILTER:\n",
    "        #     break\n",
    "        \n",
    "        ids.append(row[\"id\"])\n",
    "        submitters.append(row[\"submitter\"])\n",
    "        titles.append(row[\"title\"])\n",
    "        categories.append(row[\"categories\"])\n",
    "        abstracts.append(row[\"abstract\"])\n",
    "        authors.append(row[\"authors\"])\n",
    "        dates.append(row[\"update_date\"])\n",
    "\n",
    "        # comments.append(row[\"comments\"])\n",
    "        # dois.append(row[\"doi\"])\n",
    "        # journal_refs.append(row[\"journal-ref\"])\n",
    "        # report_nos.append(row[\"report-no\"])\n",
    "        # versions.append(row[\"versions\"])\n",
    "        \n",
    "        \n",
    "        \n",
    "        \n",
    "    return pd.DataFrame.from_dict({\n",
    "        \"id\": ids,\n",
    "        \"submitter\": submitters,\n",
    "        \"title\": titles,\n",
    "        \"categories\": categories,\n",
    "        \"abstract\": abstracts, \n",
    "        \"authors\": authors,\n",
    "        \"date\": dates,     \n",
    "    })\n",
    "\n",
    "t1 = time.time()\n",
    "df_arxiv = create_dataframe(dataset_generator)\n",
    "df_arxiv[\"date\"] = pd.to_datetime(df_arxiv[\"date\"])\n",
    "t2 = time.time()"
   ]
  },
  {
   "cell_type": "code",
   "execution_count": 7,
   "metadata": {},
   "outputs": [
    {
     "name": "stdout",
     "output_type": "stream",
     "text": [
      "Elapsed time to create DF: 54.81331467628479\n",
      "Len DF: 2390081\n"
     ]
    }
   ],
   "source": [
    "print(f\"Elapsed time to create DF: {t2-t1}\")\n",
    "print(f\"Len DF: {len(df_arxiv)}\")"
   ]
  },
  {
   "cell_type": "code",
   "execution_count": 8,
   "metadata": {},
   "outputs": [
    {
     "data": {
      "text/html": [
       "<div>\n",
       "<style scoped>\n",
       "    .dataframe tbody tr th:only-of-type {\n",
       "        vertical-align: middle;\n",
       "    }\n",
       "\n",
       "    .dataframe tbody tr th {\n",
       "        vertical-align: top;\n",
       "    }\n",
       "\n",
       "    .dataframe thead th {\n",
       "        text-align: right;\n",
       "    }\n",
       "</style>\n",
       "<table border=\"1\" class=\"dataframe\">\n",
       "  <thead>\n",
       "    <tr style=\"text-align: right;\">\n",
       "      <th></th>\n",
       "      <th>id</th>\n",
       "      <th>submitter</th>\n",
       "      <th>title</th>\n",
       "      <th>categories</th>\n",
       "      <th>abstract</th>\n",
       "      <th>authors</th>\n",
       "      <th>date</th>\n",
       "    </tr>\n",
       "  </thead>\n",
       "  <tbody>\n",
       "    <tr>\n",
       "      <th>0</th>\n",
       "      <td>0704.0001</td>\n",
       "      <td>Pavel Nadolsky</td>\n",
       "      <td>Calculation of prompt diphoton production cros...</td>\n",
       "      <td>hep-ph</td>\n",
       "      <td>A fully differential calculation in perturba...</td>\n",
       "      <td>C. Bal\\'azs, E. L. Berger, P. M. Nadolsky, C.-...</td>\n",
       "      <td>2008-11-26</td>\n",
       "    </tr>\n",
       "    <tr>\n",
       "      <th>1</th>\n",
       "      <td>0704.0002</td>\n",
       "      <td>Louis Theran</td>\n",
       "      <td>Sparsity-certifying Graph Decompositions</td>\n",
       "      <td>math.CO cs.CG</td>\n",
       "      <td>We describe a new algorithm, the $(k,\\ell)$-...</td>\n",
       "      <td>Ileana Streinu and Louis Theran</td>\n",
       "      <td>2008-12-13</td>\n",
       "    </tr>\n",
       "    <tr>\n",
       "      <th>2</th>\n",
       "      <td>0704.0003</td>\n",
       "      <td>Hongjun Pan</td>\n",
       "      <td>The evolution of the Earth-Moon system based o...</td>\n",
       "      <td>physics.gen-ph</td>\n",
       "      <td>The evolution of Earth-Moon system is descri...</td>\n",
       "      <td>Hongjun Pan</td>\n",
       "      <td>2008-01-13</td>\n",
       "    </tr>\n",
       "    <tr>\n",
       "      <th>3</th>\n",
       "      <td>0704.0004</td>\n",
       "      <td>David Callan</td>\n",
       "      <td>A determinant of Stirling cycle numbers counts...</td>\n",
       "      <td>math.CO</td>\n",
       "      <td>We show that a determinant of Stirling cycle...</td>\n",
       "      <td>David Callan</td>\n",
       "      <td>2007-05-23</td>\n",
       "    </tr>\n",
       "    <tr>\n",
       "      <th>4</th>\n",
       "      <td>0704.0005</td>\n",
       "      <td>Alberto Torchinsky</td>\n",
       "      <td>From dyadic $\\Lambda_{\\alpha}$ to $\\Lambda_{\\a...</td>\n",
       "      <td>math.CA math.FA</td>\n",
       "      <td>In this paper we show how to compute the $\\L...</td>\n",
       "      <td>Wael Abu-Shammala and Alberto Torchinsky</td>\n",
       "      <td>2013-10-15</td>\n",
       "    </tr>\n",
       "  </tbody>\n",
       "</table>\n",
       "</div>"
      ],
      "text/plain": [
       "          id           submitter  \\\n",
       "0  0704.0001      Pavel Nadolsky   \n",
       "1  0704.0002        Louis Theran   \n",
       "2  0704.0003         Hongjun Pan   \n",
       "3  0704.0004        David Callan   \n",
       "4  0704.0005  Alberto Torchinsky   \n",
       "\n",
       "                                               title       categories  \\\n",
       "0  Calculation of prompt diphoton production cros...           hep-ph   \n",
       "1           Sparsity-certifying Graph Decompositions    math.CO cs.CG   \n",
       "2  The evolution of the Earth-Moon system based o...   physics.gen-ph   \n",
       "3  A determinant of Stirling cycle numbers counts...          math.CO   \n",
       "4  From dyadic $\\Lambda_{\\alpha}$ to $\\Lambda_{\\a...  math.CA math.FA   \n",
       "\n",
       "                                            abstract  \\\n",
       "0    A fully differential calculation in perturba...   \n",
       "1    We describe a new algorithm, the $(k,\\ell)$-...   \n",
       "2    The evolution of Earth-Moon system is descri...   \n",
       "3    We show that a determinant of Stirling cycle...   \n",
       "4    In this paper we show how to compute the $\\L...   \n",
       "\n",
       "                                             authors       date  \n",
       "0  C. Bal\\'azs, E. L. Berger, P. M. Nadolsky, C.-... 2008-11-26  \n",
       "1                    Ileana Streinu and Louis Theran 2008-12-13  \n",
       "2                                        Hongjun Pan 2008-01-13  \n",
       "3                                       David Callan 2007-05-23  \n",
       "4           Wael Abu-Shammala and Alberto Torchinsky 2013-10-15  "
      ]
     },
     "execution_count": 8,
     "metadata": {},
     "output_type": "execute_result"
    }
   ],
   "source": [
    "df_arxiv.head()"
   ]
  },
  {
   "cell_type": "code",
   "execution_count": 9,
   "metadata": {},
   "outputs": [
    {
     "name": "stdout",
     "output_type": "stream",
     "text": [
      "<class 'pandas.core.frame.DataFrame'>\n",
      "RangeIndex: 2390081 entries, 0 to 2390080\n",
      "Data columns (total 7 columns):\n",
      " #   Column      Dtype         \n",
      "---  ------      -----         \n",
      " 0   id          object        \n",
      " 1   submitter   object        \n",
      " 2   title       object        \n",
      " 3   categories  object        \n",
      " 4   abstract    object        \n",
      " 5   authors     object        \n",
      " 6   date        datetime64[ns]\n",
      "dtypes: datetime64[ns](1), object(6)\n",
      "memory usage: 127.6+ MB\n"
     ]
    }
   ],
   "source": [
    "df_arxiv.info()"
   ]
  },
  {
   "cell_type": "code",
   "execution_count": 10,
   "metadata": {},
   "outputs": [
    {
     "data": {
      "text/plain": [
       "id                0\n",
       "submitter     15189\n",
       "title             0\n",
       "categories        0\n",
       "abstract          0\n",
       "authors           0\n",
       "date              0\n",
       "dtype: int64"
      ]
     },
     "execution_count": 10,
     "metadata": {},
     "output_type": "execute_result"
    }
   ],
   "source": [
    "df_arxiv.isnull().sum()"
   ]
  },
  {
   "cell_type": "code",
   "execution_count": 11,
   "metadata": {},
   "outputs": [
    {
     "name": "stdout",
     "output_type": "stream",
     "text": [
      "80625\n",
      "['hep-ph' 'math.CO cs.CG' 'physics.gen-ph' ...\n",
      " 'supr-con cond-mat.mtrl-sci cond-mat.supr-con'\n",
      " 'supr-con cond-mat.mtrl-sci cond-mat.supr-con nlin.PS patt-sol'\n",
      " 'supr-con cond-mat.supr-con quant-ph']\n"
     ]
    }
   ],
   "source": [
    "print(len(df_arxiv.categories.unique()))\n",
    "print(df_arxiv.categories.unique())"
   ]
  },
  {
   "cell_type": "code",
   "execution_count": 12,
   "metadata": {},
   "outputs": [
    {
     "data": {
      "text/html": [
       "<div>\n",
       "<style scoped>\n",
       "    .dataframe tbody tr th:only-of-type {\n",
       "        vertical-align: middle;\n",
       "    }\n",
       "\n",
       "    .dataframe tbody tr th {\n",
       "        vertical-align: top;\n",
       "    }\n",
       "\n",
       "    .dataframe thead th {\n",
       "        text-align: right;\n",
       "    }\n",
       "</style>\n",
       "<table border=\"1\" class=\"dataframe\">\n",
       "  <thead>\n",
       "    <tr style=\"text-align: right;\">\n",
       "      <th></th>\n",
       "      <th>title</th>\n",
       "      <th>categories</th>\n",
       "      <th>abstract</th>\n",
       "    </tr>\n",
       "  </thead>\n",
       "  <tbody>\n",
       "    <tr>\n",
       "      <th>0</th>\n",
       "      <td>Calculation of prompt diphoton production cros...</td>\n",
       "      <td>hep-ph</td>\n",
       "      <td>A fully differential calculation in perturba...</td>\n",
       "    </tr>\n",
       "    <tr>\n",
       "      <th>1</th>\n",
       "      <td>Sparsity-certifying Graph Decompositions</td>\n",
       "      <td>math.CO cs.CG</td>\n",
       "      <td>We describe a new algorithm, the $(k,\\ell)$-...</td>\n",
       "    </tr>\n",
       "    <tr>\n",
       "      <th>2</th>\n",
       "      <td>The evolution of the Earth-Moon system based o...</td>\n",
       "      <td>physics.gen-ph</td>\n",
       "      <td>The evolution of Earth-Moon system is descri...</td>\n",
       "    </tr>\n",
       "    <tr>\n",
       "      <th>3</th>\n",
       "      <td>A determinant of Stirling cycle numbers counts...</td>\n",
       "      <td>math.CO</td>\n",
       "      <td>We show that a determinant of Stirling cycle...</td>\n",
       "    </tr>\n",
       "    <tr>\n",
       "      <th>4</th>\n",
       "      <td>From dyadic $\\Lambda_{\\alpha}$ to $\\Lambda_{\\a...</td>\n",
       "      <td>math.CA math.FA</td>\n",
       "      <td>In this paper we show how to compute the $\\L...</td>\n",
       "    </tr>\n",
       "  </tbody>\n",
       "</table>\n",
       "</div>"
      ],
      "text/plain": [
       "                                               title       categories  \\\n",
       "0  Calculation of prompt diphoton production cros...           hep-ph   \n",
       "1           Sparsity-certifying Graph Decompositions    math.CO cs.CG   \n",
       "2  The evolution of the Earth-Moon system based o...   physics.gen-ph   \n",
       "3  A determinant of Stirling cycle numbers counts...          math.CO   \n",
       "4  From dyadic $\\Lambda_{\\alpha}$ to $\\Lambda_{\\a...  math.CA math.FA   \n",
       "\n",
       "                                            abstract  \n",
       "0    A fully differential calculation in perturba...  \n",
       "1    We describe a new algorithm, the $(k,\\ell)$-...  \n",
       "2    The evolution of Earth-Moon system is descri...  \n",
       "3    We show that a determinant of Stirling cycle...  \n",
       "4    In this paper we show how to compute the $\\L...  "
      ]
     },
     "execution_count": 12,
     "metadata": {},
     "output_type": "execute_result"
    }
   ],
   "source": [
    "df_arxiv_v2 = df_arxiv.drop(['id', 'submitter','authors','date'], axis=1)\n",
    "df_arxiv_v2.head()"
   ]
  },
  {
   "cell_type": "code",
   "execution_count": 13,
   "metadata": {},
   "outputs": [
    {
     "name": "stdout",
     "output_type": "stream",
     "text": [
      "Len DF: 2390081\n"
     ]
    }
   ],
   "source": [
    "print(f\"Len DF: {len(df_arxiv)}\")"
   ]
  },
  {
   "cell_type": "code",
   "execution_count": 14,
   "metadata": {},
   "outputs": [
    {
     "data": {
      "text/plain": [
       "'  A fully differential calculation in perturbative quantum chromodynamics is\\npresented for the production of massive photon pairs at hadron colliders. All\\nnext-to-leading order perturbative contributions from quark-antiquark,\\ngluon-(anti)quark, and gluon-gluon subprocesses are included, as well as\\nall-orders resummation of initial-state gluon radiation valid at\\nnext-to-next-to-leading logarithmic accuracy. The region of phase space is\\nspecified in which the calculation is most reliable. Good agreement is\\ndemonstrated with data from the Fermilab Tevatron, and predictions are made for\\nmore detailed tests with CDF and DO data. Predictions are shown for\\ndistributions of diphoton pairs produced at the energy of the Large Hadron\\nCollider (LHC). Distributions of the diphoton pairs from the decay of a Higgs\\nboson are contrasted with those produced from QCD processes at the LHC, showing\\nthat enhanced sensitivity to the signal can be obtained with judicious\\nselection of events.\\n'"
      ]
     },
     "execution_count": 14,
     "metadata": {},
     "output_type": "execute_result"
    }
   ],
   "source": [
    "df_arxiv_v2[\"abstract\"][0]"
   ]
  },
  {
   "cell_type": "code",
   "execution_count": 15,
   "metadata": {},
   "outputs": [],
   "source": [
    "# remove new line characters\n",
    "df_arxiv_v2['abstract'] = df_arxiv_v2['abstract'].str.replace('\\n', ' ')\n",
    "df_arxiv_v2['title'] = df_arxiv_v2['title'].str.replace('\\n', ' ')"
   ]
  },
  {
   "cell_type": "code",
   "execution_count": 16,
   "metadata": {},
   "outputs": [
    {
     "data": {
      "text/plain": [
       "'  A fully differential calculation in perturbative quantum chromodynamics is presented for the production of massive photon pairs at hadron colliders. All next-to-leading order perturbative contributions from quark-antiquark, gluon-(anti)quark, and gluon-gluon subprocesses are included, as well as all-orders resummation of initial-state gluon radiation valid at next-to-next-to-leading logarithmic accuracy. The region of phase space is specified in which the calculation is most reliable. Good agreement is demonstrated with data from the Fermilab Tevatron, and predictions are made for more detailed tests with CDF and DO data. Predictions are shown for distributions of diphoton pairs produced at the energy of the Large Hadron Collider (LHC). Distributions of the diphoton pairs from the decay of a Higgs boson are contrasted with those produced from QCD processes at the LHC, showing that enhanced sensitivity to the signal can be obtained with judicious selection of events. '"
      ]
     },
     "execution_count": 16,
     "metadata": {},
     "output_type": "execute_result"
    }
   ],
   "source": [
    "df_arxiv_v2[\"abstract\"][0]"
   ]
  },
  {
   "cell_type": "code",
   "execution_count": 17,
   "metadata": {},
   "outputs": [
    {
     "data": {
      "text/html": [
       "<div>\n",
       "<style scoped>\n",
       "    .dataframe tbody tr th:only-of-type {\n",
       "        vertical-align: middle;\n",
       "    }\n",
       "\n",
       "    .dataframe tbody tr th {\n",
       "        vertical-align: top;\n",
       "    }\n",
       "\n",
       "    .dataframe thead th {\n",
       "        text-align: right;\n",
       "    }\n",
       "</style>\n",
       "<table border=\"1\" class=\"dataframe\">\n",
       "  <thead>\n",
       "    <tr style=\"text-align: right;\">\n",
       "      <th></th>\n",
       "      <th>title</th>\n",
       "      <th>categories</th>\n",
       "      <th>abstract</th>\n",
       "    </tr>\n",
       "  </thead>\n",
       "  <tbody>\n",
       "    <tr>\n",
       "      <th>0</th>\n",
       "      <td>Calculation of prompt diphoton production cros...</td>\n",
       "      <td>hep-ph</td>\n",
       "      <td>A fully differential calculation in perturba...</td>\n",
       "    </tr>\n",
       "    <tr>\n",
       "      <th>1</th>\n",
       "      <td>Sparsity-certifying Graph Decompositions</td>\n",
       "      <td>math.CO cs.CG</td>\n",
       "      <td>We describe a new algorithm, the $(k,\\ell)$-...</td>\n",
       "    </tr>\n",
       "    <tr>\n",
       "      <th>2</th>\n",
       "      <td>The evolution of the Earth-Moon system based o...</td>\n",
       "      <td>physics.gen-ph</td>\n",
       "      <td>The evolution of Earth-Moon system is descri...</td>\n",
       "    </tr>\n",
       "    <tr>\n",
       "      <th>3</th>\n",
       "      <td>A determinant of Stirling cycle numbers counts...</td>\n",
       "      <td>math.CO</td>\n",
       "      <td>We show that a determinant of Stirling cycle...</td>\n",
       "    </tr>\n",
       "    <tr>\n",
       "      <th>4</th>\n",
       "      <td>From dyadic $\\Lambda_{\\alpha}$ to $\\Lambda_{\\a...</td>\n",
       "      <td>math.CA math.FA</td>\n",
       "      <td>In this paper we show how to compute the $\\L...</td>\n",
       "    </tr>\n",
       "  </tbody>\n",
       "</table>\n",
       "</div>"
      ],
      "text/plain": [
       "                                               title       categories  \\\n",
       "0  Calculation of prompt diphoton production cros...           hep-ph   \n",
       "1           Sparsity-certifying Graph Decompositions    math.CO cs.CG   \n",
       "2  The evolution of the Earth-Moon system based o...   physics.gen-ph   \n",
       "3  A determinant of Stirling cycle numbers counts...          math.CO   \n",
       "4  From dyadic $\\Lambda_{\\alpha}$ to $\\Lambda_{\\a...  math.CA math.FA   \n",
       "\n",
       "                                            abstract  \n",
       "0    A fully differential calculation in perturba...  \n",
       "1    We describe a new algorithm, the $(k,\\ell)$-...  \n",
       "2    The evolution of Earth-Moon system is descri...  \n",
       "3    We show that a determinant of Stirling cycle...  \n",
       "4    In this paper we show how to compute the $\\L...  "
      ]
     },
     "execution_count": 17,
     "metadata": {},
     "output_type": "execute_result"
    }
   ],
   "source": [
    "df_arxiv_v2.head()"
   ]
  },
  {
   "cell_type": "code",
   "execution_count": 18,
   "metadata": {},
   "outputs": [],
   "source": [
    "# # df_arxiv_v2['abstract'] = df_arxiv_v2['abstract'].str.replace(\"\\$\\([^)]*\\)\\$\", ' ', regex=True)\n",
    "# # df_arxiv_v2.head()"
   ]
  },
  {
   "cell_type": "code",
   "execution_count": 35,
   "metadata": {},
   "outputs": [],
   "source": [
    "df_arxiv_v2.to_csv('arxiv_title_abs_v1.csv')"
   ]
  },
  {
   "cell_type": "markdown",
   "metadata": {},
   "source": [
    "## 3) Filter for a category"
   ]
  },
  {
   "cell_type": "code",
   "execution_count": 19,
   "metadata": {},
   "outputs": [
    {
     "name": "stdout",
     "output_type": "stream",
     "text": [
      "80625\n",
      "['hep-ph' 'math.CO cs.CG' 'physics.gen-ph' ...\n",
      " 'supr-con cond-mat.mtrl-sci cond-mat.supr-con'\n",
      " 'supr-con cond-mat.mtrl-sci cond-mat.supr-con nlin.PS patt-sol'\n",
      " 'supr-con cond-mat.supr-con quant-ph']\n"
     ]
    }
   ],
   "source": [
    "print(len(df_arxiv_v2.categories.unique()))\n",
    "print(df_arxiv_v2.categories.unique())"
   ]
  },
  {
   "cell_type": "code",
   "execution_count": 20,
   "metadata": {},
   "outputs": [],
   "source": [
    "df_arxiv_CS = df_arxiv_v2[df_arxiv_v2[\"categories\"].str.contains(\" cs\\.[A-Za-z0-9]+\",regex=True, case=True)]"
   ]
  },
  {
   "cell_type": "code",
   "execution_count": 21,
   "metadata": {},
   "outputs": [
    {
     "name": "stdout",
     "output_type": "stream",
     "text": [
      "Len DF: 299131\n"
     ]
    }
   ],
   "source": [
    "print(f\"Len DF: {len(df_arxiv_CS)}\")"
   ]
  },
  {
   "cell_type": "code",
   "execution_count": 22,
   "metadata": {},
   "outputs": [
    {
     "data": {
      "text/html": [
       "<div>\n",
       "<style scoped>\n",
       "    .dataframe tbody tr th:only-of-type {\n",
       "        vertical-align: middle;\n",
       "    }\n",
       "\n",
       "    .dataframe tbody tr th {\n",
       "        vertical-align: top;\n",
       "    }\n",
       "\n",
       "    .dataframe thead th {\n",
       "        text-align: right;\n",
       "    }\n",
       "</style>\n",
       "<table border=\"1\" class=\"dataframe\">\n",
       "  <thead>\n",
       "    <tr style=\"text-align: right;\">\n",
       "      <th></th>\n",
       "      <th>title</th>\n",
       "      <th>categories</th>\n",
       "      <th>abstract</th>\n",
       "    </tr>\n",
       "  </thead>\n",
       "  <tbody>\n",
       "    <tr>\n",
       "      <th>1</th>\n",
       "      <td>Sparsity-certifying Graph Decompositions</td>\n",
       "      <td>math.CO cs.CG</td>\n",
       "      <td>We describe a new algorithm, the $(k,\\ell)$-...</td>\n",
       "    </tr>\n",
       "    <tr>\n",
       "      <th>45</th>\n",
       "      <td>A limit relation for entropy and channel capac...</td>\n",
       "      <td>quant-ph cs.IT math.IT</td>\n",
       "      <td>In a quantum mechanical model, Diosi, Feldma...</td>\n",
       "    </tr>\n",
       "    <tr>\n",
       "      <th>46</th>\n",
       "      <td>Intelligent location of simultaneously active ...</td>\n",
       "      <td>cs.NE cs.AI</td>\n",
       "      <td>The intelligent acoustic emission locator is...</td>\n",
       "    </tr>\n",
       "    <tr>\n",
       "      <th>49</th>\n",
       "      <td>Intelligent location of simultaneously active ...</td>\n",
       "      <td>cs.NE cs.AI</td>\n",
       "      <td>Part I describes an intelligent acoustic emi...</td>\n",
       "    </tr>\n",
       "    <tr>\n",
       "      <th>89</th>\n",
       "      <td>Real Options for Project Schedules (ROPS)</td>\n",
       "      <td>cs.CE cond-mat.stat-mech cs.MS cs.NA physics.d...</td>\n",
       "      <td>Real Options for Project Schedules (ROPS) ha...</td>\n",
       "    </tr>\n",
       "  </tbody>\n",
       "</table>\n",
       "</div>"
      ],
      "text/plain": [
       "                                                title  \\\n",
       "1            Sparsity-certifying Graph Decompositions   \n",
       "45  A limit relation for entropy and channel capac...   \n",
       "46  Intelligent location of simultaneously active ...   \n",
       "49  Intelligent location of simultaneously active ...   \n",
       "89          Real Options for Project Schedules (ROPS)   \n",
       "\n",
       "                                           categories  \\\n",
       "1                                       math.CO cs.CG   \n",
       "45                             quant-ph cs.IT math.IT   \n",
       "46                                        cs.NE cs.AI   \n",
       "49                                        cs.NE cs.AI   \n",
       "89  cs.CE cond-mat.stat-mech cs.MS cs.NA physics.d...   \n",
       "\n",
       "                                             abstract  \n",
       "1     We describe a new algorithm, the $(k,\\ell)$-...  \n",
       "45    In a quantum mechanical model, Diosi, Feldma...  \n",
       "46    The intelligent acoustic emission locator is...  \n",
       "49    Part I describes an intelligent acoustic emi...  \n",
       "89    Real Options for Project Schedules (ROPS) ha...  "
      ]
     },
     "execution_count": 22,
     "metadata": {},
     "output_type": "execute_result"
    }
   ],
   "source": [
    "df_arxiv_CS.head()"
   ]
  },
  {
   "cell_type": "code",
   "execution_count": 23,
   "metadata": {},
   "outputs": [
    {
     "name": "stdout",
     "output_type": "stream",
     "text": [
      "Len DF: 32930\n"
     ]
    },
    {
     "data": {
      "text/plain": [
       "1                                              math.CO cs.CG\n",
       "45                                    quant-ph cs.IT math.IT\n",
       "46                                               cs.NE cs.AI\n",
       "49                                               cs.NE cs.AI\n",
       "89         cs.CE cond-mat.stat-mech cs.MS cs.NA physics.d...\n",
       "                                 ...                        \n",
       "2388795                                       quant-ph cs.CC\n",
       "2388828                                       quant-ph cs.CC\n",
       "2388882                                       quant-ph cs.CR\n",
       "2388963                                       quant-ph cs.CR\n",
       "2389144    quant-ph chao-dyn cond-mat.mes-hall cs.CC nlin...\n",
       "Name: categories, Length: 299131, dtype: object"
      ]
     },
     "execution_count": 23,
     "metadata": {},
     "output_type": "execute_result"
    }
   ],
   "source": [
    "print(f\"Len DF: {len(df_arxiv_CS.categories.unique())}\")\n",
    "df_arxiv_CS.categories"
   ]
  },
  {
   "cell_type": "code",
   "execution_count": 24,
   "metadata": {},
   "outputs": [],
   "source": [
    "df_arxiv_CS.to_csv('arxiv_title_abs_CS_v2.csv')"
   ]
  },
  {
   "cell_type": "code",
   "execution_count": 65,
   "metadata": {},
   "outputs": [
    {
     "name": "stdout",
     "output_type": "stream",
     "text": [
      "Len DF: 2000\n"
     ]
    }
   ],
   "source": [
    "df_arxiv_CS_2000 = df_arxiv_CS.sample(2000)\n",
    "print(f\"Len DF: {len(df_arxiv_CS_2000)}\")\n",
    "df_arxiv_CS_2000.to_csv('arxiv_title_abs_CS_2000.csv')"
   ]
  }
 ],
 "metadata": {
  "kernelspec": {
   "display_name": "pytorch_env_v_1_13_1",
   "language": "python",
   "name": "python3"
  },
  "language_info": {
   "codemirror_mode": {
    "name": "ipython",
    "version": 3
   },
   "file_extension": ".py",
   "mimetype": "text/x-python",
   "name": "python",
   "nbconvert_exporter": "python",
   "pygments_lexer": "ipython3",
   "version": "3.10.12"
  }
 },
 "nbformat": 4,
 "nbformat_minor": 2
}
